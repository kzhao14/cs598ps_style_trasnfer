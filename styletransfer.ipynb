{
  "nbformat": 4,
  "nbformat_minor": 0,
  "metadata": {
    "colab": {
      "name": "styletransfer.ipynb",
      "provenance": [],
      "authorship_tag": "ABX9TyMY5nJjyfrB/qPg4fe1rFLc",
      "include_colab_link": true
    },
    "kernelspec": {
      "name": "python3",
      "display_name": "Python 3"
    }
  },
  "cells": [
    {
      "cell_type": "markdown",
      "metadata": {
        "id": "view-in-github",
        "colab_type": "text"
      },
      "source": [
        "<a href=\"https://colab.research.google.com/github/kzhao14/cs598ps_style_trasnfer/blob/main/styletransfer.ipynb\" target=\"_parent\"><img src=\"https://colab.research.google.com/assets/colab-badge.svg\" alt=\"Open In Colab\"/></a>"
      ]
    },
    {
      "cell_type": "code",
      "metadata": {
        "id": "438Z3UjNiYNY"
      },
      "source": [
        "###kzhao14"
      ],
      "execution_count": null,
      "outputs": []
    }
  ]
}